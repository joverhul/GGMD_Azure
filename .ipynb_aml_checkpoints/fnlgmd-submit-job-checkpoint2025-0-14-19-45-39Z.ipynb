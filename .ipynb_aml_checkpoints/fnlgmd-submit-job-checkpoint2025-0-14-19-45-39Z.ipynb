{
  "cells": [
    {
      "cell_type": "code",
      "source": [
        "!az login"
      ],
      "outputs": [
        {
          "output_type": "stream",
          "name": "stdout",
          "text": "\u001b[93mTo sign in, use a web browser to open the page https://microsoft.com/devicelogin and enter the code ANR5EP9KD to authenticate.\u001b[0m\n\u001b[91mThe command failed with an unexpected error. Here is the traceback:\u001b[0m\n\u001b[91m__init__() got an unexpected keyword argument 'user_agent'\nTraceback (most recent call last):\n  File \"/anaconda/envs/azureml_py38/lib/python3.8/site-packages/knack/cli.py\", line 233, in invoke\n    cmd_result = self.invocation.execute(args)\n  File \"/anaconda/envs/azureml_py38/lib/python3.8/site-packages/azure/cli/core/commands/__init__.py\", line 663, in execute\n    raise ex\n  File \"/anaconda/envs/azureml_py38/lib/python3.8/site-packages/azure/cli/core/commands/__init__.py\", line 726, in _run_jobs_serially\n    results.append(self._run_job(expanded_arg, cmd_copy))\n  File \"/anaconda/envs/azureml_py38/lib/python3.8/site-packages/azure/cli/core/commands/__init__.py\", line 697, in _run_job\n    result = cmd_copy(params)\n  File \"/anaconda/envs/azureml_py38/lib/python3.8/site-packages/azure/cli/core/commands/__init__.py\", line 333, in __call__\n    return self.handler(*args, **kwargs)\n  File \"/anaconda/envs/azureml_py38/lib/python3.8/site-packages/azure/cli/core/commands/command_operation.py\", line 121, in handler\n    return op(**command_args)\n  File \"/anaconda/envs/azureml_py38/lib/python3.8/site-packages/azure/cli/command_modules/profile/custom.py\", line 139, in login\n    subscriptions = profile.login(\n  File \"/anaconda/envs/azureml_py38/lib/python3.8/site-packages/azure/cli/core/_profile.py\", line 176, in login\n    subscriptions = subscription_finder.find_using_common_tenant(username, credential)\n  File \"/anaconda/envs/azureml_py38/lib/python3.8/site-packages/azure/cli/core/_profile.py\", line 737, in find_using_common_tenant\n    client = self._create_subscription_client(credential)\n  File \"/anaconda/envs/azureml_py38/lib/python3.8/site-packages/azure/cli/core/_profile.py\", line 828, in _create_subscription_client\n    client = client_type(credential, api_version=api_version,\nTypeError: __init__() got an unexpected keyword argument 'user_agent'\u001b[0m\nTo check existing issues, please visit: https://github.com/Azure/azure-cli/issues\n"
        }
      ],
      "execution_count": 1,
      "metadata": {
        "jupyter": {
          "source_hidden": false,
          "outputs_hidden": false
        },
        "nteract": {
          "transient": {
            "deleting": false
          }
        }
      }
    },
    {
      "cell_type": "code",
      "source": [
        "!az extension add --name ml"
      ],
      "outputs": [
        {
          "output_type": "stream",
          "name": "stdout",
          "text": "\u001b[K - Downloading ..\r\u001b[K - Installing ..\r"
        }
      ],
      "execution_count": 3,
      "metadata": {
        "jupyter": {
          "source_hidden": false,
          "outputs_hidden": false
        },
        "nteract": {
          "transient": {
            "deleting": false
          }
        }
      }
    },
    {
      "cell_type": "code",
      "source": [
        "!pip install -U azure-core"
      ],
      "outputs": [
        {
          "output_type": "stream",
          "name": "stdout",
          "text": "Collecting azure-core\n  Downloading azure_core-1.30.2-py3-none-any.whl (194 kB)\n\u001b[K     |████████████████████████████████| 194 kB 6.2 MB/s eta 0:00:01\n\u001b[?25hRequirement already satisfied, skipping upgrade: typing-extensions>=4.6.0 in /anaconda/envs/azureml_py38/lib/python3.8/site-packages (from azure-core) (4.6.0)\nRequirement already satisfied, skipping upgrade: six>=1.11.0 in /anaconda/envs/azureml_py38/lib/python3.8/site-packages (from azure-core) (1.16.0)\nRequirement already satisfied, skipping upgrade: requests>=2.21.0 in /anaconda/envs/azureml_py38/lib/python3.8/site-packages (from azure-core) (2.31.0)\nRequirement already satisfied, skipping upgrade: certifi>=2017.4.17 in /anaconda/envs/azureml_py38/lib/python3.8/site-packages (from requests>=2.21.0->azure-core) (2022.9.24)\nRequirement already satisfied, skipping upgrade: idna<4,>=2.5 in /anaconda/envs/azureml_py38/lib/python3.8/site-packages (from requests>=2.21.0->azure-core) (3.4)\nRequirement already satisfied, skipping upgrade: charset-normalizer<4,>=2 in /anaconda/envs/azureml_py38/lib/python3.8/site-packages (from requests>=2.21.0->azure-core) (3.1.0)\nRequirement already satisfied, skipping upgrade: urllib3<3,>=1.21.1 in /anaconda/envs/azureml_py38/lib/python3.8/site-packages (from requests>=2.21.0->azure-core) (1.26.16)\n\u001b[31mERROR: azureml-mlflow 1.51.0 has requirement azure-storage-blob<=12.13.0,>=12.5.0, but you'll have azure-storage-blob 12.20.0 which is incompatible.\u001b[0m\n\u001b[31mERROR: azureml-inference-server-http 0.8.4 has requirement flask<2.3.0, but you'll have flask 2.3.2 which is incompatible.\u001b[0m\n\u001b[31mERROR: azureml-core 1.51.0 has requirement azure-mgmt-containerregistry<11,>=8.2.0, but you'll have azure-mgmt-containerregistry 2.8.0 which is incompatible.\u001b[0m\n\u001b[31mERROR: azureml-core 1.51.0 has requirement azure-mgmt-resource<=22.0.0,>=15.0.0, but you'll have azure-mgmt-resource 2.2.0 which is incompatible.\u001b[0m\n\u001b[31mERROR: azureml-core 1.51.0 has requirement azure-mgmt-storage<=21.0.0,>=16.0.0, but you'll have azure-mgmt-storage 2.0.0 which is incompatible.\u001b[0m\n\u001b[31mERROR: azure-cli 2.49.0 has requirement azure-batch~=13.0.0, but you'll have azure-batch 4.1.3 which is incompatible.\u001b[0m\n\u001b[31mERROR: azure-cli 2.49.0 has requirement azure-graphrbac~=0.60.0, but you'll have azure-graphrbac 0.40.0 which is incompatible.\u001b[0m\n\u001b[31mERROR: azure-cli 2.49.0 has requirement azure-keyvault-keys==4.8.0b2, but you'll have azure-keyvault-keys 4.8.0 which is incompatible.\u001b[0m\n\u001b[31mERROR: azure-cli 2.49.0 has requirement azure-mgmt-advisor==9.0.0, but you'll have azure-mgmt-advisor 1.0.1 which is incompatible.\u001b[0m\n\u001b[31mERROR: azure-cli 2.49.0 has requirement azure-mgmt-applicationinsights~=1.0.0, but you'll have azure-mgmt-applicationinsights 0.1.1 which is incompatible.\u001b[0m\n\u001b[31mERROR: azure-cli 2.49.0 has requirement azure-mgmt-authorization~=3.0.0, but you'll have azure-mgmt-authorization 0.50.0 which is incompatible.\u001b[0m\n\u001b[31mERROR: azure-cli 2.49.0 has requirement azure-mgmt-batch~=17.0.0, but you'll have azure-mgmt-batch 5.0.1 which is incompatible.\u001b[0m\n\u001b[31mERROR: azure-cli 2.49.0 has requirement azure-mgmt-batchai==7.0.0b1, but you'll have azure-mgmt-batchai 2.0.0 which is incompatible.\u001b[0m\n\u001b[31mERROR: azure-cli 2.49.0 has requirement azure-mgmt-billing==6.0.0, but you'll have azure-mgmt-billing 0.2.0 which is incompatible.\u001b[0m\n\u001b[31mERROR: azure-cli 2.49.0 has requirement azure-mgmt-cdn==12.0.0, but you'll have azure-mgmt-cdn 3.1.0 which is incompatible.\u001b[0m\n\u001b[31mERROR: azure-cli 2.49.0 has requirement azure-mgmt-cognitiveservices~=13.3.0, but you'll have azure-mgmt-cognitiveservices 3.0.0 which is incompatible.\u001b[0m\n\u001b[31mERROR: azure-cli 2.49.0 has requirement azure-mgmt-compute~=29.1.0, but you'll have azure-mgmt-compute 4.6.2 which is incompatible.\u001b[0m\n\u001b[31mERROR: azure-cli 2.49.0 has requirement azure-mgmt-containerinstance==10.1.0, but you'll have azure-mgmt-containerinstance 1.5.0 which is incompatible.\u001b[0m\n\u001b[31mERROR: azure-cli 2.49.0 has requirement azure-mgmt-containerregistry==10.1.0, but you'll have azure-mgmt-containerregistry 2.8.0 which is incompatible.\u001b[0m\n\u001b[31mERROR: azure-cli 2.49.0 has requirement azure-mgmt-containerservice~=23.0.0, but you'll have azure-mgmt-containerservice 4.4.0 which is incompatible.\u001b[0m\n\u001b[31mERROR: azure-cli 2.49.0 has requirement azure-mgmt-cosmosdb==9.2.0, but you'll have azure-mgmt-cosmosdb 0.4.1 which is incompatible.\u001b[0m\n\u001b[31mERROR: azure-cli 2.49.0 has requirement azure-mgmt-datalake-analytics~=0.2.1, but you'll have azure-mgmt-datalake-analytics 0.6.0 which is incompatible.\u001b[0m\n\u001b[31mERROR: azure-cli 2.49.0 has requirement azure-mgmt-datamigration~=10.0.0, but you'll have azure-mgmt-datamigration 1.0.0 which is incompatible.\u001b[0m\n\u001b[31mERROR: azure-cli 2.49.0 has requirement azure-mgmt-devtestlabs~=4.0, but you'll have azure-mgmt-devtestlabs 2.2.0 which is incompatible.\u001b[0m\n\u001b[31mERROR: azure-cli 2.49.0 has requirement azure-mgmt-dns~=8.0.0, but you'll have azure-mgmt-dns 2.1.0 which is incompatible.\u001b[0m\n\u001b[31mERROR: azure-cli 2.49.0 has requirement azure-mgmt-eventgrid==10.2.0b2, but you'll have azure-mgmt-eventgrid 1.0.0 which is incompatible.\u001b[0m\n\u001b[31mERROR: azure-cli 2.49.0 has requirement azure-mgmt-eventhub~=10.1.0, but you'll have azure-mgmt-eventhub 2.6.0 which is incompatible.\u001b[0m\n\u001b[31mERROR: azure-cli 2.49.0 has requirement azure-mgmt-iotcentral~=10.0.0b1, but you'll have azure-mgmt-iotcentral 0.1.0 which is incompatible.\u001b[0m\n\u001b[31mERROR: azure-cli 2.49.0 has requirement azure-mgmt-iothub==2.3.0, but you'll have azure-mgmt-iothub 0.5.0 which is incompatible.\u001b[0m\n\u001b[31mERROR: azure-cli 2.49.0 has requirement azure-mgmt-iothubprovisioningservices==1.1.0, but you'll have azure-mgmt-iothubprovisioningservices 0.2.0 which is incompatible.\u001b[0m\n\u001b[31mERROR: azure-cli 2.49.0 has requirement azure-mgmt-keyvault==10.2.0, but you'll have azure-mgmt-keyvault 1.1.0 which is incompatible.\u001b[0m\n\u001b[31mERROR: azure-cli 2.49.0 has requirement azure-mgmt-loganalytics==13.0.0b4, but you'll have azure-mgmt-loganalytics 0.2.0 which is incompatible.\u001b[0m\n\u001b[31mERROR: azure-cli 2.49.0 has requirement azure-mgmt-managementgroups~=1.0.0, but you'll have azure-mgmt-managementgroups 0.1.0 which is incompatible.\u001b[0m\n\u001b[31mERROR: azure-cli 2.49.0 has requirement azure-mgmt-maps~=2.0.0, but you'll have azure-mgmt-maps 0.1.0 which is incompatible.\u001b[0m\n\u001b[31mERROR: azure-cli 2.49.0 has requirement azure-mgmt-marketplaceordering==1.1.0, but you'll have azure-mgmt-marketplaceordering 0.1.0 which is incompatible.\u001b[0m\n\u001b[31mERROR: azure-cli 2.49.0 has requirement azure-mgmt-media~=9.0, but you'll have azure-mgmt-media 1.0.0 which is incompatible.\u001b[0m\n\u001b[31mERROR: azure-cli 2.49.0 has requirement azure-mgmt-monitor~=5.0.0, but you'll have azure-mgmt-monitor 0.5.2 which is incompatible.\u001b[0m\n\u001b[31mERROR: azure-cli 2.49.0 has requirement azure-mgmt-msi~=7.0.0, but you'll have azure-mgmt-msi 0.2.0 which is incompatible.\u001b[0m\n\u001b[31mERROR: azure-cli 2.49.0 has requirement azure-mgmt-policyinsights~=1.1.0b2, but you'll have azure-mgmt-policyinsights 0.1.0 which is incompatible.\u001b[0m\n\u001b[31mERROR: azure-cli 2.49.0 has requirement azure-mgmt-rdbms~=10.2.0b8, but you'll have azure-mgmt-rdbms 1.9.0 which is incompatible.\u001b[0m\n\u001b[31mERROR: azure-cli 2.49.0 has requirement azure-mgmt-recoveryservices~=2.2.0, but you'll have azure-mgmt-recoveryservices 0.3.0 which is incompatible.\u001b[0m\n\u001b[31mERROR: azure-cli 2.49.0 has requirement azure-mgmt-recoveryservicesbackup~=6.0.0, but you'll have azure-mgmt-recoveryservicesbackup 0.3.0 which is incompatible.\u001b[0m\n\u001b[31mERROR: azure-cli 2.49.0 has requirement azure-mgmt-redis~=14.1.0, but you'll have azure-mgmt-redis 5.0.0 which is incompatible.\u001b[0m\n\u001b[31mERROR: azure-cli 2.49.0 has requirement azure-mgmt-resource==22.0.0, but you'll have azure-mgmt-resource 2.2.0 which is incompatible.\u001b[0m\n\u001b[31mERROR: azure-cli 2.49.0 has requirement azure-mgmt-search~=9.0, but you'll have azure-mgmt-search 2.1.0 which is incompatible.\u001b[0m\n\u001b[31mERROR: azure-cli 2.49.0 has requirement azure-mgmt-servicebus~=8.2.0, but you'll have azure-mgmt-servicebus 0.5.3 which is incompatible.\u001b[0m\n\u001b[31mERROR: azure-cli 2.49.0 has requirement azure-mgmt-servicefabric~=1.0.0, but you'll have azure-mgmt-servicefabric 0.2.0 which is incompatible.\u001b[0m\n\u001b[31mERROR: azure-cli 2.49.0 has requirement azure-mgmt-signalr==1.1.0, but you'll have azure-mgmt-signalr 0.1.1 which is incompatible.\u001b[0m\n\u001b[31mERROR: azure-cli 2.49.0 has requirement azure-mgmt-sql==4.0.0b10, but you'll have azure-mgmt-sql 0.9.1 which is incompatible.\u001b[0m\n\u001b[31mERROR: azure-cli 2.49.0 has requirement azure-mgmt-storage~=21.0.0, but you'll have azure-mgmt-storage 2.0.0 which is incompatible.\u001b[0m\n\u001b[31mERROR: azure-cli 2.49.0 has requirement azure-mgmt-trafficmanager~=1.0.0, but you'll have azure-mgmt-trafficmanager 0.50.0 which is incompatible.\u001b[0m\n\u001b[31mERROR: azure-cli 2.49.0 has requirement azure-mgmt-web==7.0.0, but you'll have azure-mgmt-web 0.35.0 which is incompatible.\u001b[0m\n\u001b[31mERROR: azure-cli-core 2.49.0 has requirement msal[broker]==1.20.0, but you'll have msal 1.22.0 which is incompatible.\u001b[0m\nInstalling collected packages: azure-core\n  Attempting uninstall: azure-core\n    Found existing installation: azure-core 1.26.4\n    Uninstalling azure-core-1.26.4:\n      Successfully uninstalled azure-core-1.26.4\nSuccessfully installed azure-core-1.30.2\n"
        }
      ],
      "execution_count": 3,
      "metadata": {
        "jupyter": {
          "source_hidden": false,
          "outputs_hidden": false
        },
        "nteract": {
          "transient": {
            "deleting": false
          }
        }
      }
    },
    {
      "cell_type": "code",
      "source": [
        "!az ml job create -f fnlgmd-submit.yaml"
      ],
      "outputs": [
        {
          "output_type": "stream",
          "name": "stdout",
          "text": "Class AutoDeleteSettingSchema: This is an experimental class, and may change at any time. Please see https://aka.ms/azuremlexperimental for more information.\nClass AutoDeleteConditionSchema: This is an experimental class, and may change at any time. Please see https://aka.ms/azuremlexperimental for more information.\nClass BaseAutoDeleteSettingSchema: This is an experimental class, and may change at any time. Please see https://aka.ms/azuremlexperimental for more information.\nClass IntellectualPropertySchema: This is an experimental class, and may change at any time. Please see https://aka.ms/azuremlexperimental for more information.\nClass ProtectionLevelSchema: This is an experimental class, and may change at any time. Please see https://aka.ms/azuremlexperimental for more information.\nClass BaseIntellectualPropertySchema: This is an experimental class, and may change at any time. Please see https://aka.ms/azuremlexperimental for more information.\nYour file exceeds 100 MB. If you experience low speeds, latency, or broken connections, we recommend using the AzCopyv10 tool for this file transfer.\n\nExample: azcopy copy '/mnt/batch/tasks/shared/LS_root/mounts/clusters/overhulsejm4/code/Users/overhulsejm/GGMD-AMPL/GGMD' 'https://naturalproduct4147943761.blob.core.windows.net/f8487174-84f9-4c22-a7bd-158e16a8baa9-fe5f1zyres1jjyh1kv1rmyqovx/GGMD' \n\nSee https://docs.microsoft.com/azure/storage/common/storage-use-azcopy-v10 for more information.\n\u001b[32mUploading GGMD (155.04 MBs): 100%|█| 155036578/155036578 [00:02<00:00, 51780655.\u001b[0m\n\u001b[39m\n\n{\n  \"code\": \"azureml:/subscriptions/c9b7bb83-3d11-4f71-9b1c-a744154ca8f9/resourceGroups/natural-product-gmd-jo/providers/Microsoft.MachineLearningServices/workspaces/naturalproductgmd/codes/634a3402-3318-4c21-87ea-0f0e40e77e0b/versions/1\",\n  \"command\": \"./script-fnlgmd.sh ${{inputs.smiles}} ${{inputs.total_vocab}} ${{inputs.model_zinc}} ${{outputs.generations}}\",\n  \"compute\": \"azureml:overhulse-cpu-cluster-2\",\n  \"creation_context\": {\n    \"created_at\": \"2025-01-14T17:44:02.296507+00:00\",\n    \"created_by\": \"Justin Overhulse\",\n    \"created_by_type\": \"User\"\n  },\n  \"description\": \"Use fnlgmd.\",\n  \"display_name\": \"fnlgmd-test\",\n  \"environment\": \"azureml:GGMD-1:1\",\n  \"environment_variables\": {},\n  \"experiment_name\": \"fnlgmd-test\",\n  \"id\": \"azureml:/subscriptions/c9b7bb83-3d11-4f71-9b1c-a744154ca8f9/resourceGroups/natural-product-gmd-jo/providers/Microsoft.MachineLearningServices/workspaces/naturalproductgmd/jobs/gifted_turtle_rgxsk509ck\",\n  \"inputs\": {\n    \"model_zinc\": {\n      \"mode\": \"ro_mount\",\n      \"path\": \"azureml:zinc-model-epoch35:1\",\n      \"type\": \"uri_file\"\n    },\n    \"smiles\": {\n      \"mode\": \"ro_mount\",\n      \"path\": \"azureml:zinc-smiles:1\",\n      \"type\": \"uri_file\"\n    },\n    \"total_vocab\": {\n      \"mode\": \"ro_mount\",\n      \"path\": \"azureml:zinc-all-vocab:1\",\n      \"type\": \"uri_file\"\n    }\n  },\n  \"name\": \"gifted_turtle_rgxsk509ck\",\n  \"outputs\": {\n    \"default\": {\n      \"mode\": \"rw_mount\",\n      \"path\": \"azureml://datastores/workspaceartifactstore/ExperimentRun/dcid.gifted_turtle_rgxsk509ck\",\n      \"type\": \"uri_folder\"\n    },\n    \"generations\": {\n      \"mode\": \"rw_mount\",\n      \"type\": \"uri_folder\"\n    }\n  },\n  \"parameters\": {},\n  \"properties\": {\n    \"ContentSnapshotId\": \"7a51ca5a-e2e8-4dcc-9c5d-66ae34a1d7e4\",\n    \"_azureml.ClusterName\": \"overhulse-cpu-cluster-2\",\n    \"_azureml.ComputeTargetType\": \"amlctrain\"\n  },\n  \"resourceGroup\": \"natural-product-gmd-jo\",\n  \"resources\": {\n    \"instance_count\": 1,\n    \"properties\": {},\n    \"shm_size\": \"2g\"\n  },\n  \"services\": {\n    \"Studio\": {\n      \"endpoint\": \"https://ml.azure.com/runs/gifted_turtle_rgxsk509ck?wsid=/subscriptions/c9b7bb83-3d11-4f71-9b1c-a744154ca8f9/resourcegroups/natural-product-gmd-jo/workspaces/naturalproductgmd&tid=14b77578-9773-42d5-8507-251ca2dc2b06\",\n      \"type\": \"Studio\"\n    },\n    \"Tracking\": {\n      \"endpoint\": \"azureml://eastus2.api.azureml.ms/mlflow/v1.0/subscriptions/c9b7bb83-3d11-4f71-9b1c-a744154ca8f9/resourceGroups/natural-product-gmd-jo/providers/Microsoft.MachineLearningServices/workspaces/naturalproductgmd?\",\n      \"type\": \"Tracking\"\n    }\n  },\n  \"status\": \"Starting\",\n  \"tags\": {},\n  \"type\": \"command\"\n}\n\u001b[0m"
        }
      ],
      "execution_count": 6,
      "metadata": {
        "jupyter": {
          "source_hidden": false,
          "outputs_hidden": false
        },
        "nteract": {
          "transient": {
            "deleting": false
          }
        }
      }
    }
  ],
  "metadata": {
    "kernelspec": {
      "name": "python38-azureml-pt-tf",
      "language": "python",
      "display_name": "Python 3.8 - Pytorch and Tensorflow"
    },
    "language_info": {
      "name": "python",
      "version": "3.9.19",
      "mimetype": "text/x-python",
      "codemirror_mode": {
        "name": "ipython",
        "version": 3
      },
      "pygments_lexer": "ipython3",
      "nbconvert_exporter": "python",
      "file_extension": ".py"
    },
    "microsoft": {
      "ms_spell_check": {
        "ms_spell_check_language": "en"
      }
    },
    "nteract": {
      "version": "nteract-front-end@1.0.0"
    },
    "kernel_info": {
      "name": "python38-azureml-pt-tf"
    }
  },
  "nbformat": 4,
  "nbformat_minor": 2
}